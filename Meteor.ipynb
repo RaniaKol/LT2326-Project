{
 "cells": [
  {
   "cell_type": "code",
   "execution_count": null,
   "metadata": {},
   "outputs": [],
   "source": [
    "from nltk.translate import meteor_score\n",
    "from nltk.tokenize import word_tokenize\n",
    "\n",
    "def read_files(candidate_file, reference_file):\n",
    "    with open(candidate_file, 'r', encoding='utf-8') as candidate_file:\n",
    "        candidate_sentences = candidate_file.read().splitlines()\n",
    "\n",
    "    with open(reference_file, 'r', encoding='utf-8') as reference_file:\n",
    "        reference_sentences = reference_file.read().splitlines()\n",
    "\n",
    "    return candidate_sentences, reference_sentences\n",
    "\n",
    "def compute_meteor_score(candidate_sentences, reference_sentences):\n",
    "    # Tokenize sentences\n",
    "    candidate_tokenized = [word_tokenize(sentence) for sentence in candidate_sentences]\n",
    "    reference_tokenized = [word_tokenize(sentence) for sentence in reference_sentences]\n",
    "\n",
    "    # Compute METEOR score for each pair\n",
    "    scores = [meteor_score.meteor_score([reference], candidate) for reference, candidate in zip(reference_tokenized, candidate_tokenized)]\n",
    "\n",
    "    # Return the average score\n",
    "    return sum(scores) / len(scores) if len(scores) > 0 else 0\n",
    "\n",
    "# File paths\n",
    "generated_translation_file = 'data/translation_sub10_4000.txt'  # Replace with your file path\n",
    "reference_translation_file = 'data/test_texts_en20.txt'  # Replace with your file path\n",
    "\n",
    "# Read sentences from files\n",
    "generated_sentences, reference_sentences = read_files(generated_translation_file, reference_translation_file)\n",
    "\n",
    "# Calculate METEOR score\n",
    "meteor_score = compute_meteor_score(generated_sentences, reference_sentences)\n",
    "\n",
    "# Print the METEOR score\n",
    "print(f\"METEOR Score: {meteor_score}\")"
   ]
  }
 ],
 "metadata": {
  "kernelspec": {
   "display_name": "Python 3",
   "language": "python",
   "name": "python3"
  },
  "language_info": {
   "name": "python",
   "version": "3.8.18"
  }
 },
 "nbformat": 4,
 "nbformat_minor": 2
}
