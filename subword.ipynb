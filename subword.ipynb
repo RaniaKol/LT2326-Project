{
 "cells": [
  {
   "cell_type": "code",
   "execution_count": null,
   "metadata": {
    "vscode": {
     "languageId": "plaintext"
    }
   },
   "outputs": [],
   "source": [
    "# learn bpe from training data Ancient Greek\n",
    "!subword-nmt learn-bpe -s 16000 < data/train_texts_grc20.txt > data/sub20_model16_grc.txt"
   ]
  },
  {
   "cell_type": "code",
   "execution_count": null,
   "metadata": {
    "vscode": {
     "languageId": "plaintext"
    }
   },
   "outputs": [],
   "source": [
    "\n",
    "!subword-nmt apply-bpe -c sub_model16_grc.txt < data/train_texts_grc20.txt > data/sub20_train16_grc.txt # Apply to train\n",
    "!subword-nmt apply-bpe -c sub_model16_grc.txt < data/test_texts_grc20.txt > data/sub20_test16_grc.txt #Apply to test\n",
    "!subword-nmt apply-bpe -c sub_model16_grc.txt < data/valid_texts_grc20.txt > data/sub20_valid16_grc.txt"
   ]
  },
  {
   "cell_type": "code",
   "execution_count": null,
   "metadata": {
    "vscode": {
     "languageId": "plaintext"
    }
   },
   "outputs": [],
   "source": [
    "!subword-nmt get-vocab < data/sub20_train16_grc.txt > data/vocab20_grc16.txt "
   ]
  },
  {
   "cell_type": "code",
   "execution_count": null,
   "metadata": {
    "vscode": {
     "languageId": "plaintext"
    }
   },
   "outputs": [],
   "source": [
    "# learn bpe from training data English\n",
    "!subword-nmt learn-bpe -s 16000 < data/train_texts_en20.txt > data/sub20_model16_en.txt"
   ]
  },
  {
   "cell_type": "code",
   "execution_count": null,
   "metadata": {
    "vscode": {
     "languageId": "plaintext"
    }
   },
   "outputs": [],
   "source": [
    "!subword-nmt apply-bpe -c data/sub_model16_en.txt < data/train_texts_en20.txt > data/sub20_train16_en.txt # Apply to train\n",
    "!subword-nmt apply-bpe -c data/sub_model16_en.txt < data/test_texts_en20.txt > data/sub20_test16_en.txt #Apply to test\n",
    "!subword-nmt apply-bpe -c data/sub_model16_en.txt < data/valid_texts_en20.txt > data/sub20_valid16_en.txt"
   ]
  },
  {
   "cell_type": "code",
   "execution_count": null,
   "metadata": {
    "vscode": {
     "languageId": "plaintext"
    }
   },
   "outputs": [],
   "source": [
    "!subword-nmt get-vocab < data/sub20_train16_en.txt > data/vocab20_en16.txt "
   ]
  }
 ],
 "metadata": {
  "language_info": {
   "name": "python"
  }
 },
 "nbformat": 4,
 "nbformat_minor": 2
}
